{
 "cells": [
  {
   "attachments": {},
   "cell_type": "markdown",
   "metadata": {},
   "source": [
    "# Overview\n",
    "\n",
    "This project is a web application which displays FRED economic data to users in an interesting and unique way. The intention of this project is to describe to macro-economy that we live in and analyze how key economic indicators including the Consumer Price Index, Federal Funds Rate, GDP, GDP per Capita, Dow Jones points, S&P500 points, Treasury Rate, Interest Rate, and Unemployment Rate all combine to makeup the health of our macro-economy. \n",
    "\n",
    "#### Project Specifics\n",
    "\n",
    "Services utilized image\n",
    "\n",
    "#### Project Requirements & Purpose\n",
    "\n",
    "Data Science as I have learned in this class is the process of collecting data, cleaning the collected data, manipulating the cleaned data, visualizing manipulated data, and finally making available and timely predictions with those more descriptive visualizations. The intentions of this project are to create a unique data science based solution with live updates to actually influence people in their decisions. Below are the 5 key attributes every data science project should have in order to be successful. I will explain how my project was successful in these while also pointing out how it could improve in each category."
   ]
  },
  {
   "attachments": {},
   "cell_type": "markdown",
   "metadata": {},
   "source": [
    "## Data-focused"
   ]
  },
  {
   "attachments": {},
   "cell_type": "markdown",
   "metadata": {},
   "source": [
    "## Originality"
   ]
  },
  {
   "attachments": {},
   "cell_type": "markdown",
   "metadata": {},
   "source": [
    "## Timely Data Ingestion & Use"
   ]
  },
  {
   "attachments": {},
   "cell_type": "markdown",
   "metadata": {},
   "source": [
    "## Substantial Work"
   ]
  },
  {
   "attachments": {},
   "cell_type": "markdown",
   "metadata": {},
   "source": [
    "## Deployment is Data Focused"
   ]
  }
 ],
 "metadata": {
  "language_info": {
   "name": "python"
  },
  "orig_nbformat": 4
 },
 "nbformat": 4,
 "nbformat_minor": 2
}
