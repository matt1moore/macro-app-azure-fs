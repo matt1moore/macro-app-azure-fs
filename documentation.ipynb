{
 "cells": [
  {
   "attachments": {},
   "cell_type": "markdown",
   "metadata": {},
   "source": [
    "# Overview\n",
    "\n",
    "This project is a web application which displays FRED economic data to users in an interesting and unique way. The intention of this project is to describe to macro-economy that we live in and analyze how key economic indicators including the Consumer Price Index, Federal Funds Rate, GDP, GDP per Capita, Dow Jones points, S&P500 points, Treasury Rate, Interest Rate, and Unemployment Rate all combine to makeup the health of our macro-economy. \n",
    "\n",
    "#### Services Diagram\n",
    "Insert an image of the services\n",
    "\n",
    "#### Project Requirements & Purpose"
   ]
  },
  {
   "attachments": {},
   "cell_type": "markdown",
   "metadata": {},
   "source": [
    "## Data-focused"
   ]
  },
  {
   "attachments": {},
   "cell_type": "markdown",
   "metadata": {},
   "source": [
    "## Originality"
   ]
  },
  {
   "attachments": {},
   "cell_type": "markdown",
   "metadata": {},
   "source": [
    "## Timely Data Ingestion & Use"
   ]
  },
  {
   "attachments": {},
   "cell_type": "markdown",
   "metadata": {},
   "source": [
    "## Substantial Work"
   ]
  },
  {
   "attachments": {},
   "cell_type": "markdown",
   "metadata": {},
   "source": [
    "## Deployment is Datafocused"
   ]
  }
 ],
 "metadata": {
  "language_info": {
   "name": "python"
  },
  "orig_nbformat": 4
 },
 "nbformat": 4,
 "nbformat_minor": 2
}
